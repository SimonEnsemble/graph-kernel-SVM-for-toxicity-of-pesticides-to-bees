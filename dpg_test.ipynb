{
 "cells": [
  {
   "cell_type": "code",
   "execution_count": 48,
   "id": "bf3accd7",
   "metadata": {},
   "outputs": [
    {
     "name": "stderr",
     "output_type": "stream",
     "text": [
      "WARNING: replacing module RWK.\n"
     ]
    },
    {
     "data": {
      "text/plain": [
       "Main.RWK"
      ]
     },
     "execution_count": 48,
     "metadata": {},
     "output_type": "execute_result"
    }
   ],
   "source": [
    "using MolecularGraph, Test, MetaGraphs, Graphs\n",
    "include(joinpath(pwd(), \"src\", \"RWK.jl\"))"
   ]
  },
  {
   "cell_type": "markdown",
   "id": "81a97dbf",
   "metadata": {},
   "source": [
    "# molecule A"
   ]
  },
  {
   "cell_type": "code",
   "execution_count": 49,
   "id": "981147dc",
   "metadata": {},
   "outputs": [
    {
     "data": {
      "text/plain": [
       "GraphMol{SmilesAtom, SmilesBond}([Dict(3 => 4, 1 => 2), Dict(2 => 3, 1 => 1), Dict(2 => 2), Dict(3 => 1)], [(1, 2), (2, 3), (1, 4)], SmilesAtom[SmilesAtom(:C, 0, 1, nothing, false, :unspecified), SmilesAtom(:C, 0, 1, nothing, false, :unspecified), SmilesAtom(:O, 0, 1, nothing, false, :unspecified), SmilesAtom(:F, 0, 1, nothing, false, :unspecified)], SmilesBond[SmilesBond(1, false, :unspecified, :unspecified), SmilesBond(2, false, :unspecified, :unspecified), SmilesBond(1, false, :unspecified, :unspecified)], Dict{Symbol, Any}(), Dict{Symbol, Any}())"
      ]
     },
     "execution_count": 49,
     "metadata": {},
     "output_type": "execute_result"
    }
   ],
   "source": [
    "mol_a = smilestomol(\"C(C=O)F\") # Fluoroacetaldehyde"
   ]
  },
  {
   "cell_type": "code",
   "execution_count": 50,
   "id": "ae611c46",
   "metadata": {},
   "outputs": [
    {
     "data": {
      "text/plain": [
       "4-element Vector{Symbol}:\n",
       " :C\n",
       " :C\n",
       " :O\n",
       " :F"
      ]
     },
     "execution_count": 50,
     "metadata": {},
     "output_type": "execute_result"
    }
   ],
   "source": [
    "atomsymbol(mol_a)"
   ]
  },
  {
   "cell_type": "code",
   "execution_count": 51,
   "id": "f6a38098",
   "metadata": {},
   "outputs": [
    {
     "data": {
      "text/plain": [
       "3-element Vector{Tuple{Int64, Int64}}:\n",
       " (1, 2)\n",
       " (2, 3)\n",
       " (1, 4)"
      ]
     },
     "execution_count": 51,
     "metadata": {},
     "output_type": "execute_result"
    }
   ],
   "source": [
    "mol_a.edges"
   ]
  },
  {
   "cell_type": "code",
   "execution_count": 52,
   "id": "31eadff4",
   "metadata": {},
   "outputs": [
    {
     "data": {
      "text/plain": [
       "3-element Vector{Int64}:\n",
       " 1\n",
       " 2\n",
       " 1"
      ]
     },
     "execution_count": 52,
     "metadata": {},
     "output_type": "execute_result"
    }
   ],
   "source": [
    "bondorder(mol_a)"
   ]
  },
  {
   "cell_type": "code",
   "execution_count": 53,
   "id": "831474cc",
   "metadata": {},
   "outputs": [
    {
     "data": {
      "image/svg+xml": "<svg xmlns=\"http://www.w3.org/2000/svg\"\n xmlns:xlink=\"http://www.w3.org/1999/xlink\"\n version=\"1.2\" baseProfile=\"tiny\"\n text-rendering=\"geometricPrecision\"\n preserveAspectRatio=\"xMidYMid meet\"\n font-weight=\"normal\"\n font-family=\"Helvetica\"\n width=\"300\" height=\"300\"\n viewBox=\"0 0 137.95 75.02\">\n<rect x=\"0\" y=\"0\" width=\"137.95\" height=\"75.02\"\n fill=\"rgb(255, 255, 255)\" opacity=\"0.0\"/>\n<line x1=\"57.11\" y1=\"43.07\" x2=\"48.02\" y2=\"37.83\" stroke=\"rgb(0, 0, 0)\" />\n<line x1=\"48.02\" y1=\"37.83\" x2=\"38.92\" y2=\"32.59\" stroke=\"rgb(255, 0, 0)\" />\n<line x1=\"54.87\" y1=\"46.97\" x2=\"45.77\" y2=\"41.73\" stroke=\"rgb(0, 0, 0)\" />\n<line x1=\"45.77\" y1=\"41.73\" x2=\"36.67\" y2=\"36.49\" stroke=\"rgb(255, 0, 0)\" />\n<line x1=\"81.96\" y1=\"30.00\" x2=\"91.06\" y2=\"35.24\" stroke=\"rgb(0, 0, 0)\" />\n<line x1=\"91.06\" y1=\"35.24\" x2=\"100.15\" y2=\"40.49\" stroke=\"rgb(0, 255, 0)\" />\n<line x1=\"81.96\" y1=\"30.00\" x2=\"55.99\" y2=\"45.02\" stroke=\"rgb(0, 0, 0)\" /><text x=\"107.95\" y=\"51.98\" font-size=\"14.0\"\n fill=\"rgb(0, 255, 0)\" text-anchor=\"middle\" >F</text>\n<text x=\"30.00\" y=\"37.04\" font-size=\"14.0\"\n fill=\"rgb(255, 0, 0)\" text-anchor=\"middle\" >O</text>\n<g>\n <rect x=\"107.95\" y=\"51.98\" width=\"10\" height=\"10\" rx=\"5.0\" ry=\"5.0\" fill=\"rgb(240, 240, 255)\" />\n <text x=\"107.95\" y=\"61.98\" font-size=\"10\" fill=\"rgb(0, 0, 0)\">4</text>\n</g>\n<g>\n <rect x=\"55.99\" y=\"45.02\" width=\"10\" height=\"10\" rx=\"5.0\" ry=\"5.0\" fill=\"rgb(240, 240, 255)\" />\n <text x=\"55.99\" y=\"55.02\" font-size=\"10\" fill=\"rgb(0, 0, 0)\">2</text>\n</g>\n<g>\n <rect x=\"30.00\" y=\"37.04\" width=\"10\" height=\"10\" rx=\"5.0\" ry=\"5.0\" fill=\"rgb(240, 240, 255)\" />\n <text x=\"30.00\" y=\"47.04\" font-size=\"10\" fill=\"rgb(0, 0, 0)\">3</text>\n</g>\n<g>\n <rect x=\"81.96\" y=\"30.00\" width=\"10\" height=\"10\" rx=\"5.0\" ry=\"5.0\" fill=\"rgb(240, 240, 255)\" />\n <text x=\"81.96\" y=\"40.00\" font-size=\"10\" fill=\"rgb(0, 0, 0)\">1</text>\n</g>\n</svg>\n"
     },
     "metadata": {},
     "output_type": "display_data"
    }
   ],
   "source": [
    "canvas = SvgCanvas()\n",
    "draw2d!(canvas, mol_a)\n",
    "drawatomindex!(canvas, mol_a)\n",
    "mol_a_svg = tosvg(canvas, 300, 300)\n",
    "display(\"image/svg+xml\", mol_a_svg)"
   ]
  },
  {
   "cell_type": "markdown",
   "id": "6c3342f3",
   "metadata": {},
   "source": [
    "# molecule B"
   ]
  },
  {
   "cell_type": "code",
   "execution_count": 54,
   "id": "9da4a173",
   "metadata": {},
   "outputs": [
    {
     "data": {
      "text/plain": [
       "GraphMol{SmilesAtom, SmilesBond}([Dict(4 => 5, 1 => 2), Dict(2 => 3, 3 => 4, 1 => 1), Dict(2 => 2), Dict(3 => 2), Dict(4 => 1)], [(1, 2), (2, 3), (2, 4), (1, 5)], SmilesAtom[SmilesAtom(:C, 0, 1, nothing, false, :unspecified), SmilesAtom(:C, 0, 1, nothing, false, :unspecified), SmilesAtom(:O, 0, 1, nothing, false, :unspecified), SmilesAtom(:O, 0, 1, nothing, false, :unspecified), SmilesAtom(:F, 0, 1, nothing, false, :unspecified)], SmilesBond[SmilesBond(1, false, :unspecified, :unspecified), SmilesBond(2, false, :unspecified, :unspecified), SmilesBond(1, false, :unspecified, :unspecified), SmilesBond(1, false, :unspecified, :unspecified)], Dict{Symbol, Any}(), Dict{Symbol, Any}())"
      ]
     },
     "execution_count": 54,
     "metadata": {},
     "output_type": "execute_result"
    }
   ],
   "source": [
    "mol_b = smilestomol(\"C(C(=O)O)F\") # Fluoroacetic acid"
   ]
  },
  {
   "cell_type": "code",
   "execution_count": 55,
   "id": "db01f302",
   "metadata": {},
   "outputs": [
    {
     "data": {
      "text/plain": [
       "5-element Vector{Symbol}:\n",
       " :C\n",
       " :C\n",
       " :O\n",
       " :O\n",
       " :F"
      ]
     },
     "execution_count": 55,
     "metadata": {},
     "output_type": "execute_result"
    }
   ],
   "source": [
    "atomsymbol(mol_b)"
   ]
  },
  {
   "cell_type": "code",
   "execution_count": 56,
   "id": "624c1201",
   "metadata": {},
   "outputs": [
    {
     "data": {
      "text/plain": [
       "4-element Vector{Tuple{Int64, Int64}}:\n",
       " (1, 2)\n",
       " (2, 3)\n",
       " (2, 4)\n",
       " (1, 5)"
      ]
     },
     "execution_count": 56,
     "metadata": {},
     "output_type": "execute_result"
    }
   ],
   "source": [
    "mol_b.edges"
   ]
  },
  {
   "cell_type": "code",
   "execution_count": 57,
   "id": "4fa73cc0",
   "metadata": {},
   "outputs": [
    {
     "data": {
      "text/plain": [
       "4-element Vector{Int64}:\n",
       " 1\n",
       " 2\n",
       " 1\n",
       " 1"
      ]
     },
     "execution_count": 57,
     "metadata": {},
     "output_type": "execute_result"
    }
   ],
   "source": [
    "bondorder(mol_b)"
   ]
  },
  {
   "cell_type": "code",
   "execution_count": 58,
   "id": "23191cbf",
   "metadata": {},
   "outputs": [
    {
     "data": {
      "image/svg+xml": "<svg xmlns=\"http://www.w3.org/2000/svg\"\n xmlns:xlink=\"http://www.w3.org/1999/xlink\"\n version=\"1.2\" baseProfile=\"tiny\"\n text-rendering=\"geometricPrecision\"\n preserveAspectRatio=\"xMidYMid meet\"\n font-weight=\"normal\"\n font-family=\"Helvetica\"\n width=\"300\" height=\"300\"\n viewBox=\"0 0 137.96 105.02\">\n<rect x=\"0\" y=\"0\" width=\"137.96\" height=\"105.02\"\n fill=\"rgb(255, 255, 255)\" opacity=\"0.0\"/>\n<line x1=\"55.99\" y1=\"75.02\" x2=\"46.90\" y2=\"69.78\" stroke=\"rgb(0, 0, 0)\" />\n<line x1=\"46.90\" y1=\"69.78\" x2=\"37.80\" y2=\"64.54\" stroke=\"rgb(0, 255, 0)\" />\n<line x1=\"84.21\" y1=\"60.00\" x2=\"84.21\" y2=\"49.50\" stroke=\"rgb(0, 0, 0)\" />\n<line x1=\"84.21\" y1=\"49.50\" x2=\"84.20\" y2=\"39.00\" stroke=\"rgb(255, 0, 0)\" />\n<line x1=\"79.71\" y1=\"60.00\" x2=\"79.71\" y2=\"49.50\" stroke=\"rgb(0, 0, 0)\" />\n<line x1=\"79.71\" y1=\"49.50\" x2=\"79.70\" y2=\"39.00\" stroke=\"rgb(255, 0, 0)\" />\n<line x1=\"81.96\" y1=\"60.00\" x2=\"91.06\" y2=\"65.24\" stroke=\"rgb(0, 0, 0)\" />\n<line x1=\"91.06\" y1=\"65.24\" x2=\"100.16\" y2=\"70.49\" stroke=\"rgb(255, 0, 0)\" />\n<line x1=\"55.99\" y1=\"75.02\" x2=\"81.96\" y2=\"60.00\" stroke=\"rgb(0, 0, 0)\" /><text x=\"30.00\" y=\"67.04\" font-size=\"14.0\"\n fill=\"rgb(0, 255, 0)\" text-anchor=\"middle\" >F</text>\n<text x=\"100.96\" y=\"81.98\" font-size=\"14.0\"\n fill=\"rgb(255, 0, 0)\" >OH</text>\n<text x=\"81.94\" y=\"37.00\" font-size=\"14.0\"\n fill=\"rgb(255, 0, 0)\" text-anchor=\"middle\" >O</text>\n<g>\n <rect x=\"30.00\" y=\"67.04\" width=\"10\" height=\"10\" rx=\"5.0\" ry=\"5.0\" fill=\"rgb(240, 240, 255)\" />\n <text x=\"30.00\" y=\"77.04\" font-size=\"10\" fill=\"rgb(0, 0, 0)\">5</text>\n</g>\n<g>\n <rect x=\"107.96\" y=\"81.98\" width=\"10\" height=\"10\" rx=\"5.0\" ry=\"5.0\" fill=\"rgb(240, 240, 255)\" />\n <text x=\"107.96\" y=\"91.98\" font-size=\"10\" fill=\"rgb(0, 0, 0)\">4</text>\n</g>\n<g>\n <rect x=\"81.96\" y=\"60.00\" width=\"10\" height=\"10\" rx=\"5.0\" ry=\"5.0\" fill=\"rgb(240, 240, 255)\" />\n <text x=\"81.96\" y=\"70.00\" font-size=\"10\" fill=\"rgb(0, 0, 0)\">2</text>\n</g>\n<g>\n <rect x=\"81.94\" y=\"37.00\" width=\"10\" height=\"10\" rx=\"5.0\" ry=\"5.0\" fill=\"rgb(240, 240, 255)\" />\n <text x=\"81.94\" y=\"47.00\" font-size=\"10\" fill=\"rgb(0, 0, 0)\">3</text>\n</g>\n<g>\n <rect x=\"55.99\" y=\"75.02\" width=\"10\" height=\"10\" rx=\"5.0\" ry=\"5.0\" fill=\"rgb(240, 240, 255)\" />\n <text x=\"55.99\" y=\"85.02\" font-size=\"10\" fill=\"rgb(0, 0, 0)\">1</text>\n</g>\n</svg>\n"
     },
     "metadata": {},
     "output_type": "display_data"
    }
   ],
   "source": [
    "canvas = SvgCanvas()\n",
    "draw2d!(canvas, mol_b)\n",
    "drawatomindex!(canvas, mol_b)\n",
    "mol_b_svg = tosvg(canvas, 300, 300)\n",
    "display(\"image/svg+xml\", mol_b_svg)"
   ]
  },
  {
   "cell_type": "markdown",
   "id": "e03b8aac",
   "metadata": {},
   "source": [
    "# Direct Product Graph AxB"
   ]
  },
  {
   "cell_type": "code",
   "execution_count": 69,
   "id": "37d7732c",
   "metadata": {},
   "outputs": [
    {
     "data": {
      "text/plain": [
       "{7, 4} undirected Int64 metagraph with Float64 weights defined by :weight (default weight 1.0)"
      ]
     },
     "execution_count": 69,
     "metadata": {},
     "output_type": "execute_result"
    }
   ],
   "source": [
    "dpg = RWK.direct_product_graph(mol_a, mol_b, store_vertex_pair=true)"
   ]
  },
  {
   "cell_type": "code",
   "execution_count": 70,
   "id": "1abf0ba2",
   "metadata": {},
   "outputs": [],
   "source": [
    "# generate a metagraph of axb manually\n",
    "axb = MetaGraph(7)\n",
    "# add vertex label\n",
    "vertex_pair_vecotr = [(1,1), (1,2), (2,1), (2,2), (3,3), (3,4), (4,5)]\n",
    "for i = 1:7\n",
    "    set_props!(axb, i, Dict(:vertex_pair => vertex_pair_vecotr[i]))\n",
    "end\n",
    "axb_edges = [(1,4), (1,7), (2,3), (4,5)]\n",
    "for (v₁, v₂) in axb_edges\n",
    "    add_edge!(axb, v₁, v₂)\n",
    "end"
   ]
  },
  {
   "cell_type": "code",
   "execution_count": 74,
   "id": "2646be8c",
   "metadata": {},
   "outputs": [
    {
     "data": {
      "text/plain": [
       "\u001b[32m\u001b[1mTest Passed\u001b[22m\u001b[39m\n",
       "  Expression: dpg == axb\n",
       "   Evaluated: {7, 4} undirected Int64 metagraph with Float64 weights defined by :weight (default weight 1.0) == {7, 4} undirected Int64 metagraph with Float64 weights defined by :weight (default weight 1.0)"
      ]
     },
     "execution_count": 74,
     "metadata": {},
     "output_type": "execute_result"
    }
   ],
   "source": [
    "@test dpg == axb"
   ]
  },
  {
   "cell_type": "code",
   "execution_count": 72,
   "id": "30bcec34",
   "metadata": {},
   "outputs": [
    {
     "name": "stdout",
     "output_type": "stream",
     "text": [
      "v  prop = (1, 1)\n",
      "v  prop = (1, 2)\n",
      "v  prop = (2, 1)\n",
      "v  prop = (2, 2)\n",
      "v  prop = (3, 3)\n",
      "v  prop = (3, 4)\n",
      "v  prop = (4, 5)\n"
     ]
    }
   ],
   "source": [
    "for v in vertices(dpg)\n",
    "\tprintln(\"v \", \" prop = \", get_prop(dpg, v, :vertex_pair))\n",
    "end"
   ]
  },
  {
   "cell_type": "code",
   "execution_count": 73,
   "id": "d72f8600",
   "metadata": {},
   "outputs": [
    {
     "name": "stdout",
     "output_type": "stream",
     "text": [
      "edge between 1 and 4\n",
      "\tvertex 1 vertex pair = (1, 1)\n",
      "\tvertex 4 vertex pair = (2, 2)\n",
      "edge between 1 and 7\n",
      "\tvertex 1 vertex pair = (1, 1)\n",
      "\tvertex 7 vertex pair = (4, 5)\n",
      "edge between 2 and 3\n",
      "\tvertex 2 vertex pair = (1, 2)\n",
      "\tvertex 3 vertex pair = (2, 1)\n",
      "edge between 4 and 5\n",
      "\tvertex 4 vertex pair = (2, 2)\n",
      "\tvertex 5 vertex pair = (3, 3)\n"
     ]
    }
   ],
   "source": [
    "for ed in edges(dpg)\n",
    "    println(\"edge between \", ed.src, \" and \", ed.dst)\n",
    "    println(\"\\tvertex \", ed.src, \" vertex pair = \", \n",
    "        get_prop(dpg, ed.src, :vertex_pair))\n",
    "    println(\"\\tvertex \", ed.dst, \" vertex pair = \", \n",
    "        get_prop(dpg, ed.dst, :vertex_pair))\n",
    "end"
   ]
  }
 ],
 "metadata": {
  "kernelspec": {
   "display_name": "Julia 1.7.2",
   "language": "julia",
   "name": "julia-1.7"
  },
  "language_info": {
   "file_extension": ".jl",
   "mimetype": "application/julia",
   "name": "julia",
   "version": "1.7.2"
  }
 },
 "nbformat": 4,
 "nbformat_minor": 5
}
