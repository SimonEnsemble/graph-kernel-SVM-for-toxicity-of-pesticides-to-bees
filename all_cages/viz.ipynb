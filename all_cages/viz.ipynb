{
 "cells": [
  {
   "cell_type": "code",
   "execution_count": 18,
   "metadata": {},
   "outputs": [],
   "source": [
    "using PorousMaterials\n",
    "using DataFrames\n",
    "using PyPlot\n",
    "using DelimitedFiles\n",
    "using CSV\n",
    "using Printf"
   ]
  },
  {
   "cell_type": "code",
   "execution_count": 19,
   "metadata": {},
   "outputs": [
    {
     "data": {
      "text/plain": [
       "74"
      ]
     },
     "execution_count": 19,
     "metadata": {},
     "output_type": "execute_result"
    }
   ],
   "source": [
    "cages = readdlm(\"all_cages.txt\")\n",
    "nb_cages = length(cages)"
   ]
  },
  {
   "cell_type": "markdown",
   "metadata": {},
   "source": [
    "# Build giant slab of cages arranged into a grid.\n",
    "(also write labels in same position)"
   ]
  },
  {
   "cell_type": "code",
   "execution_count": 20,
   "metadata": {},
   "outputs": [],
   "source": [
    "nb_rows = 6\n",
    "nb_columns = 13\n",
    "@assert(nb_rows * nb_columns >= length(cages))"
   ]
  },
  {
   "cell_type": "code",
   "execution_count": 21,
   "metadata": {},
   "outputs": [
    {
     "data": {
      "text/plain": [
       "16461"
      ]
     },
     "execution_count": 21,
     "metadata": {},
     "output_type": "execute_result"
    }
   ],
   "source": [
    "nb_atoms = 0\n",
    "for cage = cages\n",
    "    atoms, x = read_xyz(cage * \"_final_aligned.xyz\")\n",
    "    nb_atoms += length(atoms)\n",
    "end\n",
    "nb_atoms"
   ]
  },
  {
   "cell_type": "code",
   "execution_count": 22,
   "metadata": {},
   "outputs": [
    {
     "data": {
      "text/plain": [
       "42.0"
      ]
     },
     "execution_count": 22,
     "metadata": {},
     "output_type": "execute_result"
    }
   ],
   "source": [
    "box_size = 42.0"
   ]
  },
  {
   "cell_type": "code",
   "execution_count": 23,
   "metadata": {},
   "outputs": [
    {
     "data": {
      "text/html": [
       "<table class=\"data-frame\"><thead><tr><th></th><th>cage</th><th>molecule_diameter_A</th><th>pore_diameter_A</th><th>nb_windows</th></tr><tr><th></th><th>String⍰</th><th>Float64⍰</th><th>Float64⍰</th><th>Int64⍰</th></tr></thead><tbody><tr><th>1</th><td>MC6</td><td>42.8163</td><td>21.9184</td><td>6</td></tr><tr><th>2</th><td>IC1</td><td>34.3852</td><td>14.4642</td><td>4</td></tr><tr><th>3</th><td>DC1</td><td>34.3659</td><td>9.63252</td><td>3</td></tr><tr><th>4</th><td>GC1</td><td>34.323</td><td>12.7035</td><td>6</td></tr><tr><th>5</th><td>C26</td><td>34.3003</td><td>11.2826</td><td>6</td></tr><tr><th>6</th><td>WC1</td><td>32.9459</td><td>10.3792</td><td>4</td></tr><tr><th>7</th><td>B26</td><td>32.6899</td><td>12.5123</td><td>6</td></tr><tr><th>8</th><td>MC1</td><td>31.6835</td><td>10.2738</td><td>4</td></tr><tr><th>9</th><td>C25</td><td>31.1188</td><td>10.6478</td><td>6</td></tr><tr><th>10</th><td>MC5</td><td>31.0521</td><td>7.95327</td><td>4</td></tr><tr><th>11</th><td>C18</td><td>30.3425</td><td>11.0667</td><td>4</td></tr><tr><th>12</th><td>RCC1b</td><td>29.7615</td><td>4.2329</td><td>4</td></tr><tr><th>13</th><td>NC1</td><td>29.629</td><td>4.78522</td><td>4</td></tr><tr><th>14</th><td>MC2</td><td>29.5119</td><td>10.3574</td><td>4</td></tr><tr><th>15</th><td>B25</td><td>29.4859</td><td>11.5132</td><td>6</td></tr><tr><th>16</th><td>WC2</td><td>29.3701</td><td>4.11206</td><td>9</td></tr><tr><th>17</th><td>WC3</td><td>28.818</td><td>4.63224</td><td>6</td></tr><tr><th>18</th><td>RCC1a</td><td>28.3061</td><td>4.09336</td><td>4</td></tr><tr><th>19</th><td>CC5</td><td>28.2602</td><td>8.42547</td><td>4</td></tr><tr><th>20</th><td>B18</td><td>28.0574</td><td>11.4157</td><td>4</td></tr><tr><th>21</th><td>C15</td><td>27.7298</td><td>9.71985</td><td>4</td></tr><tr><th>22</th><td>C24</td><td>26.9751</td><td>8.48167</td><td>6</td></tr><tr><th>23</th><td>CC10</td><td>26.6868</td><td>5.42363</td><td>4</td></tr><tr><th>24</th><td>B6</td><td>26.3192</td><td>1.96074</td><td>3</td></tr><tr><th>25</th><td>C6</td><td>26.1239</td><td>1.82628</td><td>3</td></tr><tr><th>26</th><td>RCC1c</td><td>25.8075</td><td>4.05891</td><td>4</td></tr><tr><th>27</th><td>CC9</td><td>25.4146</td><td>5.42781</td><td>4</td></tr><tr><th>28</th><td>B15</td><td>25.3523</td><td>9.82186</td><td>4</td></tr><tr><th>29</th><td>MC7</td><td>25.3456</td><td>7.43145</td><td>3</td></tr><tr><th>30</th><td>B24</td><td>25.0454</td><td>8.62101</td><td>6</td></tr><tr><th>&vellip;</th><td>&vellip;</td><td>&vellip;</td><td>&vellip;</td><td>&vellip;</td></tr></tbody></table>"
      ],
      "text/plain": [
       "74×4 DataFrame\n",
       "│ Row │ cage    │ molecule_diameter_A │ pore_diameter_A │ nb_windows │\n",
       "│     │ \u001b[90mString⍰\u001b[39m │ \u001b[90mFloat64⍰\u001b[39m            │ \u001b[90mFloat64⍰\u001b[39m        │ \u001b[90mInt64⍰\u001b[39m     │\n",
       "├─────┼─────────┼─────────────────────┼─────────────────┼────────────┤\n",
       "│ 1   │ MC6     │ 42.8163             │ 21.9184         │ 6          │\n",
       "│ 2   │ IC1     │ 34.3852             │ 14.4642         │ 4          │\n",
       "│ 3   │ DC1     │ 34.3659             │ 9.63252         │ 3          │\n",
       "│ 4   │ GC1     │ 34.323              │ 12.7035         │ 6          │\n",
       "│ 5   │ C26     │ 34.3003             │ 11.2826         │ 6          │\n",
       "│ 6   │ WC1     │ 32.9459             │ 10.3792         │ 4          │\n",
       "│ 7   │ B26     │ 32.6899             │ 12.5123         │ 6          │\n",
       "│ 8   │ MC1     │ 31.6835             │ 10.2738         │ 4          │\n",
       "│ 9   │ C25     │ 31.1188             │ 10.6478         │ 6          │\n",
       "│ 10  │ MC5     │ 31.0521             │ 7.95327         │ 4          │\n",
       "⋮\n",
       "│ 64  │ C1      │ 17.2453             │ 1.92914         │ 3          │\n",
       "│ 65  │ WC4     │ 16.0429             │ 5.30074         │ 6          │\n",
       "│ 66  │ CD1     │ 15.9912             │ 3.8348          │ 2          │\n",
       "│ 67  │ CB7     │ 15.9812             │ 6.25578         │ 2          │\n",
       "│ 68  │ CP1     │ 15.8162             │ 4.64064         │ 6          │\n",
       "│ 69  │ B1      │ 15.1623             │ 2.06207         │ 3          │\n",
       "│ 70  │ CP4     │ 14.8481             │ 3.39537         │ 5          │\n",
       "│ 71  │ CB6     │ 14.7796             │ 4.83748         │ 2          │\n",
       "│ 72  │ CP5     │ 14.1936             │ 3.69323         │ 4          │\n",
       "│ 73  │ CP3     │ 13.2981             │ 4.38163         │ 3          │\n",
       "│ 74  │ CB5     │ 12.8415             │ 3.94825         │ 2          │"
      ]
     },
     "execution_count": 23,
     "metadata": {},
     "output_type": "execute_result"
    }
   ],
   "source": [
    "df_pores = CSV.read(\"../pywindow_cage_descriptors.csv\")\n",
    "sort!(df_pores, :molecule_diameter_A, rev=true)\n",
    "df_pores"
   ]
  },
  {
   "cell_type": "code",
   "execution_count": 24,
   "metadata": {},
   "outputs": [
    {
     "data": {
      "image/png": "[encoded data removed]",
      "text/plain": [
       "Figure(PyObject <Figure size 1000x1000 with 1 Axes>)"
      ]
     },
     "metadata": {},
     "output_type": "display_data"
    }
   ],
   "source": [
    "big_xyz = open(\"grid_of_cages.xyz\", \"w\")\n",
    "@printf(big_xyz, \"%d\\n\\n\", nb_atoms)\n",
    "\n",
    "z_pos = 0.0\n",
    "y_pos = 0.0\n",
    "padding = 4.0\n",
    "\n",
    "# annotation plot\n",
    "fig, ax = plt.subplots(figsize=(10,10))\n",
    "#fig[:patch][:set_visible](false)\n",
    "ax[:axis](\"off\")\n",
    "\n",
    "cage_no = 0 # cage counter\n",
    "for c = 1:nb_columns\n",
    "    this_box_height = df_pores[:molecule_diameter_A][cage_no+1] + padding\n",
    "    z_pos += this_box_height\n",
    "    for r = 1:nb_rows\n",
    "        y_pos = box_size * r\n",
    "        \n",
    "        if cage_no >= length(cages)\n",
    "            continue\n",
    "        end\n",
    "        # increment\n",
    "        cage_no += 1\n",
    "        cage = df_pores[:cage][cage_no]\n",
    "        \n",
    "        atoms, x = read_xyz(cage * \"_aligned.xyz\")\n",
    "        for a = 1:length(atoms)\n",
    "            @printf(big_xyz, \"%s\\t%f\\t%f\\t%f\\n\", atoms[a], \n",
    "                x[1, a], x[2, a] + y_pos, x[3, a] + z_pos)\n",
    "        end\n",
    "        \n",
    "        plt.annotate(df_pores[:cage][cage_no], (y_pos, z_pos - this_box_height/2), size=5)\n",
    "    end\n",
    "end\n",
    "close(big_xyz)\n",
    "plt.scatter([30], [30], color=\"w\")\n",
    "plt.scatter([380], [380], color=\"w\")\n",
    "\n",
    "# plt.ylim([30, 380])\n",
    "plt.axis(\"square\")\n",
    "# plt.gca()[:set_ylim](30, 380)\n",
    "# plt.gca()[:set_xlim](30, 380)\n",
    "plt.tight_layout()\n",
    "#plt.xlim([40, 275])\n",
    "plt.savefig(\"cage_labels.pdf\", transparent=true, format=\"pdf\")\n",
    "plt.show() # labels"
   ]
  },
  {
   "cell_type": "markdown",
   "metadata": {},
   "source": [
    "draw a scale bar 10 A = 1 nm"
   ]
  },
  {
   "cell_type": "code",
   "execution_count": 25,
   "metadata": {},
   "outputs": [
    {
     "name": "stdout",
     "output_type": "stream",
     "text": [
      "# vtk DataFile Version 2.0\n",
      "unit cell boundary\n",
      "\n",
      "ASCII\n",
      "DATASET POLYDATA\n",
      "POINTS 2 double\n",
      "0.000 247.000 369.100\n",
      "0.000 257.000 369.100\n",
      "LINES 1 3\n",
      "2 0 1"
     ]
    },
    {
     "data": {
      "text/plain": [
       "Process(`\u001b[4mcat\u001b[24m \u001b[4mscale_bar.vtk\u001b[24m`, ProcessExited(0))"
      ]
     },
     "execution_count": 25,
     "metadata": {},
     "output_type": "execute_result"
    }
   ],
   "source": [
    "vtkfile = open(\"scale_bar.vtk\", \"w\")\n",
    "@printf(vtkfile, \"\"\"\n",
    "    # vtk DataFile Version 2.0\n",
    "    unit cell boundary\n",
    "    \n",
    "    ASCII\n",
    "    DATASET POLYDATA\n",
    "    POINTS 2 double\n",
    "    0.000 %.3f %.3f\n",
    "    0.000 %.3f %.3f\n",
    "    LINES 1 3\n",
    "    2 0 1\"\"\",\n",
    "    y_pos - 5.0, z_pos,\n",
    "    y_pos + 5.0, z_pos)\n",
    "close(vtkfile)\n",
    "run(`cat scale_bar.vtk`)"
   ]
  },
  {
   "cell_type": "markdown",
   "metadata": {},
   "source": [
    "# LaTeX code to add the cages in the SI"
   ]
  },
  {
   "cell_type": "code",
   "execution_count": 26,
   "metadata": {},
   "outputs": [],
   "source": [
    "f = open(\"latex_code_for_viz.tex\", \"w\")\n",
    "@printf(f, \"\\\\begin{figure}[!h]\\n\")\n",
    "@printf(f, \"\\\\centering\\n\")\n",
    "for (c, cage) in enumerate(cages)\n",
    "    @printf(f, \"\\\\subfloat[%s]{\\\\includegraphics[width=0.25\\\\columnwidth]{../all_cages/%s_final_aligned.png}}\\n\",\n",
    "        cage, cage)\n",
    "    if c % 12 == 0\n",
    "        # phantom caption is so that it is all labeled as same fig 1 not fig 5\n",
    "        @printf(f, \"\\\\phantomcaption \\\\end{figure}\\n\\\\begin{figure}\\n\\\\ContinuedFloat \\\\centering\\n\")\n",
    "    elseif c % 3 == 0\n",
    "        @printf(f, \"\\\\qquad\\n\")\n",
    "    end\n",
    "end\n",
    "@printf(f, \"\\\\caption{Visualizations of the structures of all 74 porous organic cage molecules analyzed in this study.\n",
    "    The \\\\texttt{.xyz} files of these cages are from Miklitz et al. and Greenaway et al. \\\\cite{miklitz2017computational,greenaway2018high};\n",
    "    see these references for the naming conventions. The cages are visualized in their centered and aligned states\n",
    "    in the \\$[-20,20]^3\\$ \\$\\\\angstrom\\$\n",
    "    snapshot box in preparation for taking the 3D cage cavity image.}\\n\")\n",
    "@printf(f, \"\\\\label{fig:allcagesdetailed}\\n\")\n",
    "@printf(f, \"\\\\end{figure}\\n\")\n",
    "close(f)"
   ]
  },
  {
   "cell_type": "code",
   "execution_count": 27,
   "metadata": {},
   "outputs": [
    {
     "name": "stdout",
     "output_type": "stream",
     "text": [
      "\\begin{figure}[!h]\n",
      "\\centering\n",
      "\\subfloat[A11]{\\includegraphics[width=0.25\\columnwidth]{../all_cages/A11_final_aligned.png}}\n",
      "\\subfloat[B11]{\\includegraphics[width=0.25\\columnwidth]{../all_cages/B11_final_aligned.png}}\n",
      "\\subfloat[B13]{\\includegraphics[width=0.25\\columnwidth]{../all_cages/B13_final_aligned.png}}\n",
      "\\qquad\n",
      "\\subfloat[B15]{\\includegraphics[width=0.25\\columnwidth]{../all_cages/B15_final_aligned.png}}\n",
      "\\subfloat[B18]{\\includegraphics[width=0.25\\columnwidth]{../all_cages/B18_final_aligned.png}}\n",
      "\\subfloat[B1]{\\includegraphics[width=0.25\\columnwidth]{../all_cages/B1_final_aligned.png}}\n",
      "\\qquad\n",
      "\\subfloat[B23]{\\includegraphics[width=0.25\\columnwidth]{../all_cages/B23_final_aligned.png}}\n",
      "\\subfloat[B24]{\\includegraphics[width=0.25\\columnwidth]{../all_cages/B24_final_aligned.png}}\n",
      "\\subfloat[B25]{\\includegraphics[width=0.25\\columnwidth]{../all_cages/B25_final_aligned.png}}\n",
      "\\qquad\n",
      "\\subfloat[B26]{\\includegraphics[width=0.25\\columnwidth]{../all_cages/B26_final_aligned.png}}\n",
      "\\subfloat[B2]{\\includegraphics[width=0.25\\columnwidth]{../all_cages/B2_final_aligned.png}}\n",
      "\\subfloat[B4]{\\includegraphics[width=0.25\\columnwidth]{../all_cages/B4_final_aligned.png}}\n",
      "\\phantomcaption \\end{figure}\n",
      "\\begin{figure}\n",
      "\\ContinuedFloat \\centering\n",
      "\\subfloat[B5]{\\includegraphics[width=0.25\\columnwidth]{../all_cages/B5_final_aligned.png}}\n",
      "\\subfloat[B6]{\\includegraphics[width=0.25\\columnwidth]{../all_cages/B6_final_aligned.png}}\n",
      "\\subfloat[B8]{\\includegraphics[width=0.25\\columnwidth]{../all_cages/B8_final_aligned.png}}\n",
      "\\qquad\n",
      "\\subfloat[B9]{\\includegraphics[width=0.25\\columnwidth]{../all_cages/B9_final_aligned.png}}\n",
      "\\subfloat[C11]{\\includegraphics[width=0.25\\columnwidth]{../all_cages/C11_final_aligned.png}}\n",
      "\\subfloat[C13]{\\includegraphics[width=0.25\\columnwidth]{../all_cages/C13_final_aligned.png}}\n",
      "\\qquad\n",
      "\\subfloat[C15]{\\includegraphics[width=0.25\\columnwidth]{../all_cages/C15_final_aligned.png}}\n",
      "\\subfloat[C18]{\\includegraphics[width=0.25\\columnwidth]{../all_cages/C18_final_aligned.png}}\n",
      "\\subfloat[C1]{\\includegraphics[width=0.25\\columnwidth]{../all_cages/C1_final_aligned.png}}\n",
      "\\qquad\n",
      "\\subfloat[C20]{\\includegraphics[width=0.25\\columnwidth]{../all_cages/C20_final_aligned.png}}\n",
      "\\subfloat[C21]{\\includegraphics[width=0.25\\columnwidth]{../all_cages/C21_final_aligned.png}}\n",
      "\\subfloat[C23]{\\includegraphics[width=0.25\\columnwidth]{../all_cages/C23_final_aligned.png}}\n",
      "\\phantomcaption \\end{figure}\n",
      "\\begin{figure}\n",
      "\\ContinuedFloat \\centering\n",
      "\\subfloat[C24]{\\includegraphics[width=0.25\\columnwidth]{../all_cages/C24_final_aligned.png}}\n",
      "\\subfloat[C25]{\\includegraphics[width=0.25\\columnwidth]{../all_cages/C25_final_aligned.png}}\n",
      "\\subfloat[C26]{\\includegraphics[width=0.25\\columnwidth]{../all_cages/C26_final_aligned.png}}\n",
      "\\qquad\n",
      "\\subfloat[C2]{\\includegraphics[width=0.25\\columnwidth]{../all_cages/C2_final_aligned.png}}\n",
      "\\subfloat[C4]{\\includegraphics[width=0.25\\columnwidth]{../all_cages/C4_final_aligned.png}}\n",
      "\\subfloat[C5]{\\includegraphics[width=0.25\\columnwidth]{../all_cages/C5_final_aligned.png}}\n",
      "\\qquad\n",
      "\\subfloat[C6]{\\includegraphics[width=0.25\\columnwidth]{../all_cages/C6_final_aligned.png}}\n",
      "\\subfloat[C8]{\\includegraphics[width=0.25\\columnwidth]{../all_cages/C8_final_aligned.png}}\n",
      "\\subfloat[C9]{\\includegraphics[width=0.25\\columnwidth]{../all_cages/C9_final_aligned.png}}\n",
      "\\qquad\n",
      "\\subfloat[CB5]{\\includegraphics[width=0.25\\columnwidth]{../all_cages/CB5_final_aligned.png}}\n",
      "\\subfloat[CB6]{\\includegraphics[width=0.25\\columnwidth]{../all_cages/CB6_final_aligned.png}}\n",
      "\\subfloat[CB7]{\\includegraphics[width=0.25\\columnwidth]{../all_cages/CB7_final_aligned.png}}\n",
      "\\phantomcaption \\end{figure}\n",
      "\\begin{figure}\n",
      "\\ContinuedFloat \\centering\n",
      "\\subfloat[CC10]{\\includegraphics[width=0.25\\columnwidth]{../all_cages/CC10_final_aligned.png}}\n",
      "\\subfloat[CC1]{\\includegraphics[width=0.25\\columnwidth]{../all_cages/CC1_final_aligned.png}}\n",
      "\\subfloat[CC2]{\\includegraphics[width=0.25\\columnwidth]{../all_cages/CC2_final_aligned.png}}\n",
      "\\qquad\n",
      "\\subfloat[CC3]{\\includegraphics[width=0.25\\columnwidth]{../all_cages/CC3_final_aligned.png}}\n",
      "\\subfloat[CC4]{\\includegraphics[width=0.25\\columnwidth]{../all_cages/CC4_final_aligned.png}}\n",
      "\\subfloat[CC5]{\\includegraphics[width=0.25\\columnwidth]{../all_cages/CC5_final_aligned.png}}\n",
      "\\qquad\n",
      "\\subfloat[CC9]{\\includegraphics[width=0.25\\columnwidth]{../all_cages/CC9_final_aligned.png}}\n",
      "\\subfloat[CD1]{\\includegraphics[width=0.25\\columnwidth]{../all_cages/CD1_final_aligned.png}}\n",
      "\\subfloat[CD2]{\\includegraphics[width=0.25\\columnwidth]{../all_cages/CD2_final_aligned.png}}\n",
      "\\qquad\n",
      "\\subfloat[CD3]{\\includegraphics[width=0.25\\columnwidth]{../all_cages/CD3_final_aligned.png}}\n",
      "\\subfloat[CP1]{\\includegraphics[width=0.25\\columnwidth]{../all_cages/CP1_final_aligned.png}}\n",
      "\\subfloat[CP3]{\\includegraphics[width=0.25\\columnwidth]{../all_cages/CP3_final_aligned.png}}\n",
      "\\phantomcaption \\end{figure}\n",
      "\\begin{figure}\n",
      "\\ContinuedFloat \\centering\n",
      "\\subfloat[CP4]{\\includegraphics[width=0.25\\columnwidth]{../all_cages/CP4_final_aligned.png}}\n",
      "\\subfloat[CP5]{\\includegraphics[width=0.25\\columnwidth]{../all_cages/CP5_final_aligned.png}}\n",
      "\\subfloat[DC1]{\\includegraphics[width=0.25\\columnwidth]{../all_cages/DC1_final_aligned.png}}\n",
      "\\qquad\n",
      "\\subfloat[GC1]{\\includegraphics[width=0.25\\columnwidth]{../all_cages/GC1_final_aligned.png}}\n",
      "\\subfloat[HC1]{\\includegraphics[width=0.25\\columnwidth]{../all_cages/HC1_final_aligned.png}}\n",
      "\\subfloat[IC1]{\\includegraphics[width=0.25\\columnwidth]{../all_cages/IC1_final_aligned.png}}\n",
      "\\qquad\n",
      "\\subfloat[IC2]{\\includegraphics[width=0.25\\columnwidth]{../all_cages/IC2_final_aligned.png}}\n",
      "\\subfloat[MC1]{\\includegraphics[width=0.25\\columnwidth]{../all_cages/MC1_final_aligned.png}}\n",
      "\\subfloat[MC2]{\\includegraphics[width=0.25\\columnwidth]{../all_cages/MC2_final_aligned.png}}\n",
      "\\qquad\n",
      "\\subfloat[MC3]{\\includegraphics[width=0.25\\columnwidth]{../all_cages/MC3_final_aligned.png}}\n",
      "\\subfloat[MC4]{\\includegraphics[width=0.25\\columnwidth]{../all_cages/MC4_final_aligned.png}}\n",
      "\\subfloat[MC5]{\\includegraphics[width=0.25\\columnwidth]{../all_cages/MC5_final_aligned.png}}\n",
      "\\phantomcaption \\end{figure}\n",
      "\\begin{figure}\n",
      "\\ContinuedFloat \\centering\n",
      "\\subfloat[MC6]{\\includegraphics[width=0.25\\columnwidth]{../all_cages/MC6_final_aligned.png}}\n",
      "\\subfloat[MC7]{\\includegraphics[width=0.25\\columnwidth]{../all_cages/MC7_final_aligned.png}}\n",
      "\\subfloat[NC1]{\\includegraphics[width=0.25\\columnwidth]{../all_cages/NC1_final_aligned.png}}\n",
      "\\qquad\n",
      "\\subfloat[NC2]{\\includegraphics[width=0.25\\columnwidth]{../all_cages/NC2_final_aligned.png}}\n",
      "\\subfloat[RCC1a]{\\includegraphics[width=0.25\\columnwidth]{../all_cages/RCC1a_final_aligned.png}}\n",
      "\\subfloat[RCC1b]{\\includegraphics[width=0.25\\columnwidth]{../all_cages/RCC1b_final_aligned.png}}\n",
      "\\qquad\n",
      "\\subfloat[RCC1c]{\\includegraphics[width=0.25\\columnwidth]{../all_cages/RCC1c_final_aligned.png}}\n",
      "\\subfloat[RCC1d]{\\includegraphics[width=0.25\\columnwidth]{../all_cages/RCC1d_final_aligned.png}}\n",
      "\\subfloat[RCC3a]{\\includegraphics[width=0.25\\columnwidth]{../all_cages/RCC3a_final_aligned.png}}\n",
      "\\qquad\n",
      "\\subfloat[RCC3b]{\\includegraphics[width=0.25\\columnwidth]{../all_cages/RCC3b_final_aligned.png}}\n",
      "\\subfloat[WC1]{\\includegraphics[width=0.25\\columnwidth]{../all_cages/WC1_final_aligned.png}}\n",
      "\\subfloat[WC2]{\\includegraphics[width=0.25\\columnwidth]{../all_cages/WC2_final_aligned.png}}\n",
      "\\phantomcaption \\end{figure}\n",
      "\\begin{figure}\n",
      "\\ContinuedFloat \\centering\n",
      "\\subfloat[WC3]{\\includegraphics[width=0.25\\columnwidth]{../all_cages/WC3_final_aligned.png}}\n",
      "\\subfloat[WC4]{\\includegraphics[width=0.25\\columnwidth]{../all_cages/WC4_final_aligned.png}}\n",
      "\\caption{Visualizations of the structures of all 74 porous organic cage molecules analyzed in this study.\n",
      "    The \\texttt{.xyz} files of these cages are from Miklitz et al. and Greenaway et al. \\cite{miklitz2017computational,greenaway2018high};\n",
      "    see these references for the naming conventions. The cages are visualized in their centered and aligned states\n",
      "    in the $[-20,20]^3$ $\\angstrom$\n",
      "    snapshot box in preparation for taking the 3D cage cavity image.}\n",
      "\\label{fig:allcagesdetailed}\n",
      "\\end{figure}\n"
     ]
    },
    {
     "data": {
      "text/plain": [
       "Process(`\u001b[4mcat\u001b[24m \u001b[4mlatex_code_for_viz.tex\u001b[24m`, ProcessExited(0))"
      ]
     },
     "execution_count": 27,
     "metadata": {},
     "output_type": "execute_result"
    }
   ],
   "source": [
    "run(`cat latex_code_for_viz.tex`)"
   ]
  }
 ],
 "metadata": {
  "kernelspec": {
   "display_name": "Julia 1.0.1",
   "language": "julia",
   "name": "julia-1.0"
  },
  "language_info": {
   "file_extension": ".jl",
   "mimetype": "application/julia",
   "name": "julia",
   "version": "1.0.1"
  }
 },
 "nbformat": 4,
 "nbformat_minor": 2
}
